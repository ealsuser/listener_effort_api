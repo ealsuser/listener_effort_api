{
 "cells": [
  {
   "cell_type": "code",
   "execution_count": 1,
   "id": "8f1b99f3",
   "metadata": {},
   "outputs": [],
   "source": [
    "%load_ext autoreload\n",
    "%autoreload 2"
   ]
  },
  {
   "cell_type": "code",
   "execution_count": 2,
   "id": "ea798671",
   "metadata": {},
   "outputs": [],
   "source": [
    "import requests #type: ignore\n",
    "import base64\n",
    "import pandas as pd\n",
    "import numpy as np\n",
    "import json\n",
    "from joblib import load # type: ignore\n",
    "import sys;sys.path.append('../../')\n",
    "from listener_effort_api import config\n",
    "from listener_effort_api.utils import get_logger\n",
    "logger = get_logger()\n",
    "\n",
    "def load_wav_file(file_path):\n",
    "    with open(file_path, 'rb') as f:\n",
    "        return f.read()"
   ]
  },
  {
   "cell_type": "markdown",
   "id": "1ee9e8e6",
   "metadata": {},
   "source": [
    "### Load model"
   ]
  },
  {
   "cell_type": "code",
   "execution_count": 3,
   "id": "7e8e0296",
   "metadata": {},
   "outputs": [],
   "source": [
    "training_study = 'Speech_study' # 'Radcliff' # 'Speech_study' # 'Prilenia'\n",
    "test_study = 'Prilenia'\n",
    "model_name = 'LinearRegression05'"
   ]
  },
  {
   "cell_type": "code",
   "execution_count": 4,
   "id": "b090f290",
   "metadata": {},
   "outputs": [
    {
     "name": "stderr",
     "output_type": "stream",
     "text": [
      "/opt/conda/envs/listener-effort-api-env/lib/python3.10/site-packages/sklearn/base.py:380: InconsistentVersionWarning: Trying to unpickle estimator StandardScaler from version 1.5.2 when using version 1.6.1. This might lead to breaking code or invalid results. Use at your own risk. For more info please refer to:\n",
      "https://scikit-learn.org/stable/model_persistence.html#security-maintainability-limitations\n",
      "  warnings.warn(\n",
      "/opt/conda/envs/listener-effort-api-env/lib/python3.10/site-packages/sklearn/base.py:380: InconsistentVersionWarning: Trying to unpickle estimator LinearRegression from version 1.5.2 when using version 1.6.1. This might lead to breaking code or invalid results. Use at your own risk. For more info please refer to:\n",
      "https://scikit-learn.org/stable/model_persistence.html#security-maintainability-limitations\n",
      "  warnings.warn(\n",
      "/opt/conda/envs/listener-effort-api-env/lib/python3.10/site-packages/sklearn/base.py:380: InconsistentVersionWarning: Trying to unpickle estimator Pipeline from version 1.5.2 when using version 1.6.1. This might lead to breaking code or invalid results. Use at your own risk. For more info please refer to:\n",
      "https://scikit-learn.org/stable/model_persistence.html#security-maintainability-limitations\n",
      "  warnings.warn(\n"
     ]
    }
   ],
   "source": [
    "# Load model's metadata\n",
    "model_metadata_save_name = f'{training_study}_{model_name}_model_metadata'\n",
    "with open(f'{config.Models.models_path}/{model_metadata_save_name}.json', 'r') as f:\n",
    "    model_metadata = json.load(f)\n",
    "\n",
    "# Load model\n",
    "regressor = load(f'{config.Models.models_path}/{training_study}_{model_name}_model.joblib')"
   ]
  },
  {
   "cell_type": "code",
   "execution_count": 5,
   "id": "f7dbfadd",
   "metadata": {},
   "outputs": [],
   "source": [
    "# predictions_save_name = '../predictions/Speech_study_on_Prilenia_LinearRegression05.csv'\n",
    "# df_run = pd.read_csv(predictions_save_name)\n",
    "# df_run"
   ]
  },
  {
   "cell_type": "markdown",
   "id": "89d318cc",
   "metadata": {},
   "source": [
    "### Get original predictions"
   ]
  },
  {
   "cell_type": "code",
   "execution_count": 6,
   "id": "90c37261",
   "metadata": {},
   "outputs": [],
   "source": [
    "average_feature_by_session = model_metadata['average_feature_by_session']\n",
    "target_by_session = model_metadata['target_by_session']\n",
    "features_train = model_metadata['features_train']"
   ]
  },
  {
   "cell_type": "code",
   "execution_count": 15,
   "id": "eb323e13",
   "metadata": {},
   "outputs": [
    {
     "name": "stdout",
     "output_type": "stream",
     "text": [
      "(79062, 31)\n"
     ]
    }
   ],
   "source": [
    "def string_to_np_array(s):\n",
    "    if pd.isna(s):\n",
    "        return np.nan\n",
    "    # Removing brackets\n",
    "    s = s.strip('[]')\n",
    "    # Splitting string into list of strings\n",
    "    s_list = s.split()\n",
    "    # Converting list of strings into list of floats\n",
    "    float_list = [float(i) for i in s_list]\n",
    "    # Converting list of floats into numpy array\n",
    "    np_array = np.array(float_list)\n",
    "    return np_array\n",
    "\n",
    "### Load dataset\n",
    "path = f'../datasets/{test_study}_dataset_with_features_and_le.csv'\n",
    "df = pd.read_csv(path)\n",
    "df['effort_list'] = df['effort_list'].apply(string_to_np_array)\n",
    "df['effort_list_session'] = df['effort_list_session'].apply(string_to_np_array)\n",
    "print(df.shape)"
   ]
  },
  {
   "cell_type": "code",
   "execution_count": 16,
   "id": "b55fd5de",
   "metadata": {},
   "outputs": [
    {
     "name": "stdout",
     "output_type": "stream",
     "text": [
      "(79062, 31)\n",
      "(15783, 31)\n"
     ]
    }
   ],
   "source": [
    "np.random.seed(0)\n",
    "print(df.shape)\n",
    "\n",
    "### Select all wavs with SLPs labels\n",
    "df_with_slps = df.dropna(subset=['effort_mean']).copy()\n",
    "\n",
    "### Select three wavs without SLPs labels that are not in the same session as wavs with SLPs labels\n",
    "df_without_slps = df[df.effort_mean.isna()].copy()\n",
    "\n",
    "### This discards sessions in common with SLPs\n",
    "df_without_slps = df_without_slps.query('session_id not in @df_with_slps.session_id')\n",
    "\n",
    "### Filter by task\n",
    "available_tasks = [f'sentenceRotating{i}' for i in range(1,6)]\n",
    "df_without_slps = df_without_slps.query('task_name in @available_tasks')\n",
    "\n",
    "### We only keep sessions with at least three tasks\n",
    "use_sessions = df_without_slps.groupby('session_id').size()\n",
    "use_sessions = use_sessions[use_sessions >= 3].index\n",
    "df_without_slps = df_without_slps.query('session_id in @use_sessions')\n",
    "df_without_slps = df_without_slps.groupby('session_id').sample(3)\n",
    "df = pd.concat([df_with_slps, df_without_slps])\n",
    "\n",
    "# df = df.query('task_name in @select_tasks')\n",
    "print(df.shape)"
   ]
  },
  {
   "cell_type": "code",
   "execution_count": 17,
   "id": "6de2a206",
   "metadata": {},
   "outputs": [
    {
     "name": "stdout",
     "output_type": "stream",
     "text": [
      "(14270, 31)\n"
     ]
    }
   ],
   "source": [
    "# Drop WER > 0.8 # WARNING: this also drops SLPs for that audio\n",
    "df = df.query('WER_large_v2 < 0.8') ### This guarantees feature quality\n",
    "print(df.shape)"
   ]
  },
  {
   "cell_type": "code",
   "execution_count": 18,
   "id": "4f2f49ff",
   "metadata": {},
   "outputs": [
    {
     "name": "stdout",
     "output_type": "stream",
     "text": [
      "(14270, 31)\n",
      "(14268, 31)\n"
     ]
    }
   ],
   "source": [
    "print(df.shape)\n",
    "df.dropna(subset=features_train, inplace=True)\n",
    "print(df.shape)"
   ]
  },
  {
   "cell_type": "code",
   "execution_count": 19,
   "id": "71b71acd",
   "metadata": {},
   "outputs": [
    {
     "name": "stdout",
     "output_type": "stream",
     "text": [
      "(4907, 4)\n"
     ]
    }
   ],
   "source": [
    "### B. Feature aggregation\n",
    "if average_feature_by_session:\n",
    "    df_features_by_session = df.groupby('session_id')[features_train].mean().reset_index()\n",
    "    df_tasks_by_session = df.groupby('session_id').size().reset_index().rename(columns={0: 'n_tasks'})\n",
    "    df_features_by_session = df_features_by_session.merge(df_tasks_by_session, on='session_id')\n",
    "    df_run = df_features_by_session.copy()\n",
    "else:\n",
    "    df_features = df[['user_id', 'session_id', 'wav_path'] + features_train].copy()\n",
    "    df_run = df_features.copy()\n",
    "\n",
    "print(df_run.shape)"
   ]
  },
  {
   "cell_type": "code",
   "execution_count": 20,
   "id": "a7be63f4",
   "metadata": {},
   "outputs": [],
   "source": [
    "if target_by_session:\n",
    "    target_name = 'effort_mean_session'\n",
    "else:\n",
    "    target_name = 'effort_mean'"
   ]
  },
  {
   "cell_type": "code",
   "execution_count": 21,
   "id": "22e0b43d",
   "metadata": {},
   "outputs": [
    {
     "name": "stdout",
     "output_type": "stream",
     "text": [
      "(4907, 5)\n"
     ]
    }
   ],
   "source": [
    "target_name_predicted = f'{target_name}_predicted'\n",
    "df_run[target_name_predicted] = regressor.predict(df_run[features_train])\n",
    "print(df_run.shape)"
   ]
  },
  {
   "cell_type": "markdown",
   "id": "7507dc6a",
   "metadata": {},
   "source": [
    "### Do our own predictions"
   ]
  },
  {
   "cell_type": "code",
   "execution_count": 34,
   "id": "6d01f922",
   "metadata": {},
   "outputs": [
    {
     "name": "stdout",
     "output_type": "stream",
     "text": [
      "DB52F0FE-5902-4CAF-AF9A-C0DBE3111D5F\n",
      "Effort predicted:  104.99297384292863\n"
     ]
    },
    {
     "data": {
      "text/html": [
       "<div>\n",
       "<style scoped>\n",
       "    .dataframe tbody tr th:only-of-type {\n",
       "        vertical-align: middle;\n",
       "    }\n",
       "\n",
       "    .dataframe tbody tr th {\n",
       "        vertical-align: top;\n",
       "    }\n",
       "\n",
       "    .dataframe thead th {\n",
       "        text-align: right;\n",
       "    }\n",
       "</style>\n",
       "<table border=\"1\" class=\"dataframe\">\n",
       "  <thead>\n",
       "    <tr style=\"text-align: right;\">\n",
       "      <th></th>\n",
       "      <th>session_id</th>\n",
       "      <th>whisper_confidence_base</th>\n",
       "      <th>speaking_rate_large_v2</th>\n",
       "      <th>n_tasks</th>\n",
       "      <th>effort_mean_session_predicted</th>\n",
       "    </tr>\n",
       "  </thead>\n",
       "  <tbody>\n",
       "    <tr>\n",
       "      <th>4386</th>\n",
       "      <td>DB52F0FE-5902-4CAF-AF9A-C0DBE3111D5F</td>\n",
       "      <td>0.333191</td>\n",
       "      <td>0.579095</td>\n",
       "      <td>3</td>\n",
       "      <td>104.992974</td>\n",
       "    </tr>\n",
       "  </tbody>\n",
       "</table>\n",
       "</div>"
      ],
      "text/plain": [
       "                                session_id  whisper_confidence_base  \\\n",
       "4386  DB52F0FE-5902-4CAF-AF9A-C0DBE3111D5F                 0.333191   \n",
       "\n",
       "      speaking_rate_large_v2  n_tasks  effort_mean_session_predicted  \n",
       "4386                0.579095        3                     104.992974  "
      ]
     },
     "metadata": {},
     "output_type": "display_data"
    }
   ],
   "source": [
    "# session_id = df_run.query('n_tasks==3').sample(1).session_id.values[0]\n",
    "session_id = df_run.query('n_tasks==3').sort_values('effort_mean_session_predicted').iloc[-1].session_id\n",
    "print(session_id)\n",
    "print('Effort predicted: ', df_run.query('session_id==@session_id').effort_mean_session_predicted.values[0])\n",
    "display(df_run.query('session_id==@session_id'))"
   ]
  },
  {
   "cell_type": "code",
   "execution_count": 35,
   "id": "032d5ff9",
   "metadata": {},
   "outputs": [
    {
     "name": "stdout",
     "output_type": "stream",
     "text": [
      "200\n"
     ]
    },
    {
     "data": {
      "text/plain": [
       "{'status': 'ok',\n",
       " 'result': [{'status': 'ok',\n",
       "   'listener_effort': 100.0,\n",
       "   'listener_effort_stddev': 7.322407086303299,\n",
       "   'audio_results': [{'status': 'ok', 'listener_effort': 84.46682888399953},\n",
       "    {'status': 'ok', 'listener_effort': 100.0},\n",
       "    {'status': 'ok', 'listener_effort': 100.0}]}]}"
      ]
     },
     "execution_count": 35,
     "metadata": {},
     "output_type": "execute_result"
    }
   ],
   "source": [
    "import base64\n",
    "import requests\n",
    "\n",
    "def load_wav_file(file_path):\n",
    "    with open(file_path, 'rb') as f:\n",
    "        return f.read()\n",
    "\n",
    "payload = {\n",
    "    \"input\": [\n",
    "        {\n",
    "            \"audios\": [\n",
    "                {\n",
    "                   \"wav\": base64.b64encode(load_wav_file(df.query('session_id==@session_id').wav_path.values[0])).decode(),\n",
    "                    \"transcript\": \"The forest near my grandpa's cabin is said to contain mythical creatures.\"\n",
    "                },\n",
    "                {\n",
    "                    \"wav\": base64.b64encode(load_wav_file(df.query('session_id==@session_id').wav_path.values[1])).decode(),\n",
    "                    \"transcript\": None\n",
    "                },\n",
    "                {\n",
    "                    \"wav\": base64.b64encode(load_wav_file(df.query('session_id==@session_id').wav_path.values[2])).decode(),\n",
    "                    \"transcript\": None\n",
    "                }\n",
    "            ]\n",
    "        }\n",
    "    ]\n",
    "}\n",
    "\n",
    "response = requests.post('http://localhost:8000/v1/listener-effort', json=payload)\n",
    "print(response.status_code)\n",
    "response.json()"
   ]
  }
 ],
 "metadata": {
  "kernelspec": {
   "display_name": "listener-effort-api-env",
   "language": "python",
   "name": "python3"
  },
  "language_info": {
   "codemirror_mode": {
    "name": "ipython",
    "version": 3
   },
   "file_extension": ".py",
   "mimetype": "text/x-python",
   "name": "python",
   "nbconvert_exporter": "python",
   "pygments_lexer": "ipython3",
   "version": "3.10.18"
  }
 },
 "nbformat": 4,
 "nbformat_minor": 5
}
